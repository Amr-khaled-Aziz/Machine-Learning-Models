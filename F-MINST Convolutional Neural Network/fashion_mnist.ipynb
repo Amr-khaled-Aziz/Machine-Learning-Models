{
 "cells": [
  {
   "cell_type": "code",
   "execution_count": 2,
   "metadata": {},
   "outputs": [],
   "source": [
    "from tensorflow import keras\n",
    "import tensorflow as tf\n",
    "import numpy as np"
   ]
  },
  {
   "cell_type": "code",
   "execution_count": 3,
   "metadata": {},
   "outputs": [],
   "source": [
    "fashion_mnist = keras.datasets.fashion_mnist\n",
    "class_names = ['T-shirt/top', 'Trouser', 'Pullover', 'Dress', 'Coat',\n",
    "               'Sandal', 'Shirt', 'Sneaker', 'Bag', 'Ankle boot']"
   ]
  },
  {
   "cell_type": "code",
   "execution_count": 4,
   "metadata": {},
   "outputs": [],
   "source": [
    "(train_images, train_labels), (test_images, test_labels) = fashion_mnist.load_data()\n",
    "train_images = train_images / 255\n",
    "test_images = test_images / 255\n",
    "train_images = train_images.reshape(60000, 28, 28, 1)\n",
    "test_images = test_images.reshape(10000, 28, 28, 1)"
   ]
  },
  {
   "cell_type": "code",
   "execution_count": 5,
   "metadata": {},
   "outputs": [],
   "source": [
    "model = keras.Sequential([\n",
    "    keras.layers.Conv2D(64, (3, 3), activation='relu', input_shape=(28, 28, 1)),\n",
    "    keras.layers.MaxPooling2D((2, 2)),\n",
    "    keras.layers.Flatten(),\n",
    "    keras.layers.Dense(128, activation=tf.nn.relu),\n",
    "    keras.layers.Dense(10, activation=tf.nn.softmax)\n",
    "])"
   ]
  },
  {
   "cell_type": "code",
   "execution_count": 6,
   "metadata": {},
   "outputs": [],
   "source": [
    "model.compile(optimizer='adam', loss=tf.keras.losses.SparseCategoricalCrossentropy(from_logits=True),\n",
    "              metrics=['accuracy'])"
   ]
  },
  {
   "cell_type": "code",
   "execution_count": 7,
   "metadata": {
    "scrolled": true
   },
   "outputs": [
    {
     "name": "stdout",
     "output_type": "stream",
     "text": [
      "Train on 60000 samples\n",
      "Epoch 1/20\n",
      "60000/60000 [==============================] - 40s 667us/sample - loss: 1.6356 - accuracy: 0.8295\n",
      "Epoch 2/20\n",
      "60000/60000 [==============================] - 36s 596us/sample - loss: 1.5792 - accuracy: 0.8831\n",
      "Epoch 3/20\n",
      "60000/60000 [==============================] - 33s 547us/sample - loss: 1.5652 - accuracy: 0.8962\n",
      "Epoch 4/20\n",
      "60000/60000 [==============================] - 37s 624us/sample - loss: 1.5582 - accuracy: 0.9034\n",
      "Epoch 5/20\n",
      "60000/60000 [==============================] - 37s 621us/sample - loss: 1.5523 - accuracy: 0.9088\n",
      "Epoch 6/20\n",
      "60000/60000 [==============================] - 34s 572us/sample - loss: 1.5464 - accuracy: 0.9154\n",
      "Epoch 7/20\n",
      "60000/60000 [==============================] - 39s 653us/sample - loss: 1.5414 - accuracy: 0.9203\n",
      "Epoch 8/20\n",
      "60000/60000 [==============================] - 41s 682us/sample - loss: 1.5379 - accuracy: 0.9237\n",
      "Epoch 9/20\n",
      "60000/60000 [==============================] - 39s 652us/sample - loss: 1.5334 - accuracy: 0.9283\n",
      "Epoch 10/20\n",
      "60000/60000 [==============================] - 34s 574us/sample - loss: 1.5310 - accuracy: 0.9305\n",
      "Epoch 11/20\n",
      "60000/60000 [==============================] - 33s 552us/sample - loss: 1.5273 - accuracy: 0.9342\n",
      "Epoch 12/20\n",
      "60000/60000 [==============================] - 35s 575us/sample - loss: 1.5252 - accuracy: 0.9365\n",
      "Epoch 13/20\n",
      "60000/60000 [==============================] - 33s 548us/sample - loss: 1.5226 - accuracy: 0.9389\n",
      "Epoch 14/20\n",
      "60000/60000 [==============================] - 34s 565us/sample - loss: 1.5209 - accuracy: 0.9406\n",
      "Epoch 15/20\n",
      "60000/60000 [==============================] - 33s 558us/sample - loss: 1.5178 - accuracy: 0.9439\n",
      "Epoch 16/20\n",
      "60000/60000 [==============================] - 34s 569us/sample - loss: 1.5181 - accuracy: 0.9433\n",
      "Epoch 17/20\n",
      "60000/60000 [==============================] - 34s 564us/sample - loss: 1.5157 - accuracy: 0.9457\n",
      "Epoch 18/20\n",
      "60000/60000 [==============================] - 35s 591us/sample - loss: 1.5136 - accuracy: 0.9479\n",
      "Epoch 19/20\n",
      "60000/60000 [==============================] - 34s 560us/sample - loss: 1.5126 - accuracy: 0.9489\n",
      "Epoch 20/20\n",
      "60000/60000 [==============================] - 37s 611us/sample - loss: 1.5118 - accuracy: 0.9496\n"
     ]
    },
    {
     "data": {
      "text/plain": [
       "<tensorflow.python.keras.callbacks.History at 0x7f1a492e9610>"
      ]
     },
     "execution_count": 7,
     "metadata": {},
     "output_type": "execute_result"
    }
   ],
   "source": [
    "model.fit(train_images, train_labels, epochs=20)"
   ]
  },
  {
   "cell_type": "code",
   "execution_count": 8,
   "metadata": {},
   "outputs": [
    {
     "name": "stdout",
     "output_type": "stream",
     "text": [
      "10000/10000 - 2s - loss: 1.5482 - accuracy: 0.9128\n"
     ]
    }
   ],
   "source": [
    "test_loss, test_acc = model.evaluate(test_images,  test_labels, verbose=2)"
   ]
  },
  {
   "cell_type": "code",
   "execution_count": 9,
   "metadata": {},
   "outputs": [
    {
     "data": {
      "text/plain": [
       "array([[8.0909405e-28, 3.0470168e-29, 2.7726531e-25, ..., 2.2062575e-23,\n",
       "        1.1780875e-27, 1.0000000e+00],\n",
       "       [4.3273422e-24, 0.0000000e+00, 1.0000000e+00, ..., 0.0000000e+00,\n",
       "        0.0000000e+00, 0.0000000e+00],\n",
       "       [1.3232466e-34, 1.0000000e+00, 0.0000000e+00, ..., 0.0000000e+00,\n",
       "        0.0000000e+00, 0.0000000e+00],\n",
       "       ...,\n",
       "       [4.1031183e-22, 2.8070776e-35, 8.4966985e-25, ..., 1.0447825e-21,\n",
       "        1.0000000e+00, 3.4400792e-34],\n",
       "       [3.0771069e-36, 1.0000000e+00, 0.0000000e+00, ..., 0.0000000e+00,\n",
       "        0.0000000e+00, 2.1266973e-37],\n",
       "       [5.2039936e-14, 3.9962207e-16, 7.2351322e-06, ..., 5.4904584e-02,\n",
       "        5.3178130e-05, 6.2886770e-12]], dtype=float32)"
      ]
     },
     "execution_count": 9,
     "metadata": {},
     "output_type": "execute_result"
    }
   ],
   "source": [
    "model.predict(np.array(test_images))"
   ]
  },
  {
   "cell_type": "code",
   "execution_count": null,
   "metadata": {},
   "outputs": [],
   "source": []
  },
  {
   "cell_type": "code",
   "execution_count": null,
   "metadata": {},
   "outputs": [],
   "source": []
  }
 ],
 "metadata": {
  "kernelspec": {
   "display_name": "Python 3",
   "language": "python",
   "name": "python3"
  },
  "language_info": {
   "codemirror_mode": {
    "name": "ipython",
    "version": 3
   },
   "file_extension": ".py",
   "mimetype": "text/x-python",
   "name": "python",
   "nbconvert_exporter": "python",
   "pygments_lexer": "ipython3",
   "version": "3.7.6"
  }
 },
 "nbformat": 4,
 "nbformat_minor": 4
}
